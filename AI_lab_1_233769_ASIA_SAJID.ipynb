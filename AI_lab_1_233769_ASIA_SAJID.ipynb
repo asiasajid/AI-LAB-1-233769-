{
  "nbformat": 4,
  "nbformat_minor": 0,
  "metadata": {
    "colab": {
      "provenance": []
    },
    "kernelspec": {
      "name": "python3",
      "display_name": "Python 3"
    },
    "language_info": {
      "name": "python"
    }
  },
  "cells": [
    {
      "cell_type": "markdown",
      "source": [],
      "metadata": {
        "id": "-CMtgCpbRJzX"
      }
    },
    {
      "cell_type": "markdown",
      "source": [
        "Activity 1"
      ],
      "metadata": {
        "id": "ssGNtS4tJTmW"
      }
    },
    {
      "cell_type": "code",
      "source": [
        "print(1 + 3)\n",
        "print(10 / 2)\n",
        ""
      ],
      "metadata": {
        "colab": {
          "base_uri": "https://localhost:8080/"
        },
        "id": "h1t-HjJH7JU5",
        "outputId": "852e3c72-65b8-4192-f8b3-669b626216cf"
      },
      "execution_count": 12,
      "outputs": [
        {
          "output_type": "stream",
          "name": "stdout",
          "text": [
            "4\n",
            "5.0\n"
          ]
        }
      ]
    },
    {
      "cell_type": "markdown",
      "source": [
        "Activity 2"
      ],
      "metadata": {
        "id": "GhtOIA5kJZ9V"
      }
    },
    {
      "cell_type": "code",
      "source": [
        "print(\"python\" + \" basics\")\n",
        "print(\"AI \" * 3)"
      ],
      "metadata": {
        "colab": {
          "base_uri": "https://localhost:8080/"
        },
        "id": "OipGbxOe7uvv",
        "outputId": "5bdeaae1-4824-4c66-8e74-77230bea2ed7"
      },
      "execution_count": 13,
      "outputs": [
        {
          "output_type": "stream",
          "name": "stdout",
          "text": [
            "python basics\n",
            "AI AI AI \n"
          ]
        }
      ]
    },
    {
      "cell_type": "markdown",
      "source": [
        "Activity 3\n"
      ],
      "metadata": {
        "id": "YlU-mTYfJfal"
      }
    },
    {
      "cell_type": "code",
      "source": [
        "fruit = \"apple\"\n",
        "print(fruit)\n",
        "fruit = 17\n",
        "print(fruit)\n",
        "x = str(3); y = int(3); z = float(3)\n",
        "print(type(x), type(y), type(z))"
      ],
      "metadata": {
        "colab": {
          "base_uri": "https://localhost:8080/"
        },
        "id": "nFBd8a_U9L4G",
        "outputId": "96592b34-e879-43e1-fc4c-61a3ca843049"
      },
      "execution_count": 20,
      "outputs": [
        {
          "output_type": "stream",
          "name": "stdout",
          "text": [
            "apple\n",
            "17\n",
            "<class 'str'> <class 'int'> <class 'float'>\n"
          ]
        }
      ]
    },
    {
      "cell_type": "markdown",
      "source": [
        "Activity 4"
      ],
      "metadata": {
        "id": "_y1bS3kbJmPt"
      }
    },
    {
      "cell_type": "code",
      "source": [
        "# Activity: Working with a mixed-type list and extracting sublists\n",
        "# Step 1: Create a list with different data types (string, float, string,integer)\n",
        "mylist = [\"apple\", 34.5, \"banana\", 9]\n",
        "\n",
        "# Step 2: Print the entire list to verify its contents\n",
        "print(\"Complete list:\", mylist)\n",
        "\n",
        "# Step 3: Access and print the first element (index 0)\n",
        "print(\"First element:\", mylist[0])\n",
        "\n",
        "# Step 4: Access and print the last element using negative indexing\n",
        "\n",
        "print(\"Last element:\", mylist[-1])\n",
        "\n",
        "# Step 5: Extract and print a sublist from index 1 up to (but not including)index 3\n",
        "print(\"Sublist from index 1 to 2:\", mylist[1:3])\n",
        "\n",
        "# Step 6: Extract and print every second element using step in slicing\n",
        "print(\"Every second element:\", mylist[::2])\n",
        "\n",
        "# Step 7: Check if a substring exists inside a string element of the list\n",
        "# For example, check if \"app\" is present in the first itemif \"app\" in mylist[0]:\n",
        "print(\"Substring 'app' found in the first element.\")\n",
        "\n",
        "# Step 8: Append a new item to the listmylist.append(\"grape\")\n",
        "print(\"List after appending 'grape':\", mylist)\n",
        "\n",
        "# Step 9: Remove a specific item from the list\n",
        "mylist.remove(\"banana\")\n",
        "print(\"List after removing 'banana':\", mylist)\n",
        "\n",
        "# Step 10: Replace the value at index 1 with a new value\n",
        "mylist[1] = 99.9\n",
        "print(\"List after updating index 1:\", mylist)\n",
        "\n",
        "# Final Output will display all modifications and operations performed above."
      ],
      "metadata": {
        "colab": {
          "base_uri": "https://localhost:8080/"
        },
        "id": "izRC6X2y_EMc",
        "outputId": "b877e5d6-ee9d-48d4-c8ac-c27dfd88b6d2"
      },
      "execution_count": 29,
      "outputs": [
        {
          "output_type": "stream",
          "name": "stdout",
          "text": [
            "Complete list: ['apple', 34.5, 'banana', 9]\n",
            "First element: apple\n",
            "Last element: 9\n",
            "Sublist from index 1 to 2: [34.5, 'banana']\n",
            "Every second element: ['apple', 'banana']\n",
            "Substring 'app' found in the first element.\n",
            "List after appending 'grape': ['apple', 34.5, 'banana', 9]\n",
            "List after removing 'banana': ['apple', 34.5, 9]\n",
            "List after updating index 1: ['apple', 99.9, 9]\n"
          ]
        }
      ]
    },
    {
      "cell_type": "markdown",
      "source": [
        "Activity 5"
      ],
      "metadata": {
        "id": "38c3b3HlKk7h"
      }
    },
    {
      "cell_type": "code",
      "source": [
        "\n",
        "car = {\"brand\": \"Ford\", \"model\": \"Mustang\", \"year\": 1964}\n",
        "print(\"Initial dictionary:\", car)\n",
        "\n",
        "\n",
        "print(\"Model of the car:\", car[\"model\"])\n",
        "\n",
        "car[\"year\"] = 2024\n",
        "print(\"After updating 'year':\", car)\n",
        "\n",
        "car[\"color\"] = \"red\"\n",
        "print(\"After adding a new key 'color':\", car)\n",
        "\n",
        "removed_value = car.pop(\"model\")\n",
        "print(\"Removed 'model' key with value:\", removed_value)\n",
        "print(\"Dictionary after pop operation:\", car)\n",
        "\n",
        "last_item = car.popitem()\n",
        "print(\"Removed the last inserted item:\", last_item)\n",
        "print(\"Dictionary after popitem:\", car)\n",
        "\n",
        "print(\"Get 'brand' safely:\", car.get(\"brand\"))\n",
        "print(\"Get non-existing key safely (returns None):\", car.get(\"engine\"))\n",
        "\n",
        "print(\"'brand' key exists in the dictionary.\")\n",
        "\n",
        "print(\"All keys:\", car.keys())\n",
        "print(\"All values:\", car.values())\n",
        "print(\"All items (key–value pairs):\", car.items())\n",
        "\n",
        "\n",
        "\n",
        "car_copy = car.copy()\n",
        "print(\"Shallow copy of dictionary:\", car_copy)\n",
        "\n",
        "car.clear()\n",
        "print(\"Dictionary after clearing all items:\", car)"
      ],
      "metadata": {
        "colab": {
          "base_uri": "https://localhost:8080/"
        },
        "id": "jwFWntfvJvOF",
        "outputId": "e5bb9f7f-fb2a-4f21-aa0f-886c5a1b6de4"
      },
      "execution_count": 31,
      "outputs": [
        {
          "output_type": "stream",
          "name": "stdout",
          "text": [
            "Initial dictionary: {'brand': 'Ford', 'model': 'Mustang', 'year': 1964}\n",
            "Model of the car: Mustang\n",
            "After updating 'year': {'brand': 'Ford', 'model': 'Mustang', 'year': 2024}\n",
            "After adding a new key 'color': {'brand': 'Ford', 'model': 'Mustang', 'year': 2024, 'color': 'red'}\n",
            "Removed 'model' key with value: Mustang\n",
            "Dictionary after pop operation: {'brand': 'Ford', 'year': 2024, 'color': 'red'}\n",
            "Removed the last inserted item: ('color', 'red')\n",
            "Dictionary after popitem: {'brand': 'Ford', 'year': 2024}\n",
            "Get 'brand' safely: Ford\n",
            "Get non-existing key safely (returns None): None\n",
            "'brand' key exists in the dictionary.\n",
            "All keys: dict_keys(['brand', 'year'])\n",
            "All values: dict_values(['Ford', 2024])\n",
            "All items (key–value pairs): dict_items([('brand', 'Ford'), ('year', 2024)])\n",
            "Shallow copy of dictionary: {'brand': 'Ford', 'year': 2024}\n",
            "Dictionary after clearing all items: {}\n"
          ]
        }
      ]
    },
    {
      "cell_type": "markdown",
      "source": [
        "Activity 6"
      ],
      "metadata": {
        "id": "KThAJkdHKqTJ"
      }
    },
    {
      "cell_type": "code",
      "source": [
        "\n",
        "thisset = {\"apple\", \"banana\", \"cherry\"}\n",
        "print(\"Initial set:\", thisset)\n",
        "\n",
        "\n",
        "set1 = {\"abc\", 34, True, 40, \"male\"}\n",
        "print(\"Mixed-type set:\", set1)\n",
        "\n",
        "thisset.add(\"orange\")\n",
        "\n",
        "print(\"After adding 'orange':\", thisset)\n",
        "\n",
        "thisset.update([\"grape\", \"mango\"])\n",
        "print(\"After adding multiple elements:\", thisset)\n",
        "\n",
        "thisset.remove(\"banana\")\n",
        "print(\"After removing 'banana':\", thisset)\n",
        "\n",
        "thisset.discard(\"papaya\")\n",
        "print(\"After attempting to discard 'papaya' (not present):\", thisset)\n",
        "\n",
        "removed_item = thisset.pop()\n",
        "print(\"Removed an arbitrary element:\", removed_item)\n",
        "print(\"Set after pop operation:\", thisset)\n",
        "\n",
        "\n",
        "print(\"Is 'apple' in the set?\", \"apple\" in thisset)\n",
        "\n",
        "union_set = thisset.union(set1)\n",
        "\n",
        "print(\"Union of thisset and set1:\", union_set)\n",
        "\n",
        "\n",
        "intersection_set = thisset.intersection(set1)\n",
        "print(\"Intersection of thisset and set1:\", intersection_set)\n",
        "\n",
        "difference_set = thisset.difference(set1)\n",
        "print(\"Difference (thisset - set1):\", difference_set)\n",
        "\n",
        "copy_set = thisset.copy()\n",
        "print(\"Copy of the set:\", copy_set)\n",
        "\n",
        "thisset.clear()\n",
        "print(\"Set after clearing all elements:\", thisset)"
      ],
      "metadata": {
        "colab": {
          "base_uri": "https://localhost:8080/"
        },
        "id": "OUVMMRVxKsHb",
        "outputId": "6c288487-05b7-4137-8940-d5734e82dc30"
      },
      "execution_count": 32,
      "outputs": [
        {
          "output_type": "stream",
          "name": "stdout",
          "text": [
            "Initial set: {'banana', 'cherry', 'apple'}\n",
            "Mixed-type set: {True, 34, 'abc', 40, 'male'}\n",
            "After adding 'orange': {'orange', 'banana', 'cherry', 'apple'}\n",
            "After adding multiple elements: {'cherry', 'apple', 'mango', 'orange', 'grape', 'banana'}\n",
            "After removing 'banana': {'cherry', 'apple', 'mango', 'orange', 'grape'}\n",
            "After attempting to discard 'papaya' (not present): {'cherry', 'apple', 'mango', 'orange', 'grape'}\n",
            "Removed an arbitrary element: cherry\n",
            "Set after pop operation: {'apple', 'mango', 'orange', 'grape'}\n",
            "Is 'apple' in the set? True\n",
            "Union of thisset and set1: {True, 34, 'abc', 'mango', 'apple', 'orange', 40, 'grape', 'male'}\n",
            "Intersection of thisset and set1: set()\n",
            "Difference (thisset - set1): {'orange', 'grape', 'mango', 'apple'}\n",
            "Copy of the set: {'orange', 'grape', 'mango', 'apple'}\n",
            "Set after clearing all elements: set()\n"
          ]
        }
      ]
    },
    {
      "cell_type": "markdown",
      "source": [
        "Activity 7"
      ],
      "metadata": {
        "id": "CjQKUx19LDrW"
      }
    },
    {
      "cell_type": "code",
      "source": [
        "thistuple = (\"apple\", \"banana\", \"cherry\")\n",
        "print(thistuple[1])"
      ],
      "metadata": {
        "colab": {
          "base_uri": "https://localhost:8080/"
        },
        "id": "bwy9piw7LDXO",
        "outputId": "65597712-0e0a-4789-d3f0-95ac1c68e431"
      },
      "execution_count": 33,
      "outputs": [
        {
          "output_type": "stream",
          "name": "stdout",
          "text": [
            "banana\n"
          ]
        }
      ]
    },
    {
      "cell_type": "markdown",
      "source": [
        "ACTivity 8"
      ],
      "metadata": {
        "id": "njeAlN5WLOgy"
      }
    },
    {
      "cell_type": "code",
      "source": [
        "a, b = 33, 200\n",
        "if a < b:\n",
        "    print(\"b is greater than a\")\n",
        "elif a == b:\n",
        "    print(\"a and b are equal\")\n",
        "else:\n",
        "    print(\"a is greater than b\")"
      ],
      "metadata": {
        "colab": {
          "base_uri": "https://localhost:8080/"
        },
        "id": "C2dTj53SLTWK",
        "outputId": "3e774303-13a9-424b-8b01-c04b80bc60e5"
      },
      "execution_count": 38,
      "outputs": [
        {
          "output_type": "stream",
          "name": "stdout",
          "text": [
            "b is greater than a\n"
          ]
        }
      ]
    },
    {
      "cell_type": "markdown",
      "source": [
        "Activity 9"
      ],
      "metadata": {
        "id": "58b2UJqGLxXK"
      }
    },
    {
      "cell_type": "code",
      "source": [
        "for i in range(5):\n",
        "    print(\"Number:\", i)\n",
        "for i in range(2, 7):\n",
        "    print(\"From 2 to 6:\", i)\n",
        "for i in range(0, 10, 2):\n",
        "    print(\"Even number:\", i)\n",
        "for i in range(5, 0, -1):\n",
        "    print(\"Countdown:\", i)\n",
        "fruits = [\"apple\", \"banana\", \"cherry\"]\n",
        "for index in range(len(fruits)):\n",
        "    print(\"Index:\", index, \"Fruit:\", fruits[index])\n",
        "for i in range(10):\n",
        "    if i % 2 != 0:\n",
        "        print(\"Odd number:\", i)\n"
      ],
      "metadata": {
        "colab": {
          "base_uri": "https://localhost:8080/"
        },
        "id": "w01-4RpMLz-j",
        "outputId": "eef190fc-4446-485c-b93f-0dcab496f9ae"
      },
      "execution_count": 43,
      "outputs": [
        {
          "output_type": "stream",
          "name": "stdout",
          "text": [
            "Number: 0\n",
            "Number: 1\n",
            "Number: 2\n",
            "Number: 3\n",
            "Number: 4\n",
            "From 2 to 6: 2\n",
            "From 2 to 6: 3\n",
            "From 2 to 6: 4\n",
            "From 2 to 6: 5\n",
            "From 2 to 6: 6\n",
            "Even number: 0\n",
            "Even number: 2\n",
            "Even number: 4\n",
            "Even number: 6\n",
            "Even number: 8\n",
            "Countdown: 5\n",
            "Countdown: 4\n",
            "Countdown: 3\n",
            "Countdown: 2\n",
            "Countdown: 1\n",
            "Index: 0 Fruit: apple\n",
            "Index: 1 Fruit: banana\n",
            "Index: 2 Fruit: cherry\n",
            "Odd number: 1\n",
            "Odd number: 3\n",
            "Odd number: 5\n",
            "Odd number: 7\n",
            "Odd number: 9\n"
          ]
        }
      ]
    },
    {
      "cell_type": "code",
      "source": [
        "Activity 10"
      ],
      "metadata": {
        "id": "iGAWMh1QMYJC"
      },
      "execution_count": null,
      "outputs": []
    },
    {
      "cell_type": "code",
      "source": [
        "def my_function(fname, lname):\n",
        "    print(\"Full name:\", fname + \" \" + lname)\n",
        "my_function(\"Emil\", \"Refsnes\")\n",
        "def kids_function(*kids):\n",
        "    print(\"The youngest child is:\", kids[2])\n",
        "kids_function(\"Emil\", \"Tobias\", \"Linus\")\n",
        "def greet_user(name=\"Guest\"):\n",
        "    print(\"Hello,\", name)\n",
        "greet_user()\n",
        "greet_user(\"Alice\")\n",
        "def describe_pet(**pet_info):\n",
        "    print(\"Pet details:\")\n",
        "    for key, value in pet_info.items():\n",
        "        print(key.capitalize() + \":\", value)\n",
        "describe_pet(type=\"Dog\", name=\"Buddy\", age=5)\n",
        "def add_numbers(a, b):\n",
        "    return a + b\n",
        "result = add_numbers(10, 20)\n",
        "print(\"Sum of numbers:\", result)\n"
      ],
      "metadata": {
        "colab": {
          "base_uri": "https://localhost:8080/"
        },
        "id": "CG3d8HE3MbFC",
        "outputId": "e04d6425-8c97-42ec-8fc5-83c3c4c73b3e"
      },
      "execution_count": 44,
      "outputs": [
        {
          "output_type": "stream",
          "name": "stdout",
          "text": [
            "Full name: Emil Refsnes\n",
            "The youngest child is: Linus\n",
            "Hello, Guest\n",
            "Hello, Alice\n",
            "Pet details:\n",
            "Type: Dog\n",
            "Name: Buddy\n",
            "Age: 5\n",
            "Sum of numbers: 30\n"
          ]
        }
      ]
    },
    {
      "cell_type": "markdown",
      "source": [
        "# **`*5. Exercises*`**"
      ],
      "metadata": {
        "id": "SKBzYt7BMlYy"
      }
    },
    {
      "cell_type": "markdown",
      "source": [
        " Exercises no 1 1. Write a program to check if a number is prime."
      ],
      "metadata": {
        "id": "hTMaVBjBMw3q"
      }
    },
    {
      "cell_type": "code",
      "source": [
        "num = int(input(\"Enter a number: \"))\n",
        "if num <= 1:\n",
        "    print(num, \"is not a prime number.\")\n",
        "else:\n",
        "    is_prime = True\n",
        "    for i in range(2, int(num**0.5) + 1):\n",
        "        if num % i == 0:\n",
        "            is_prime = False\n",
        "            break\n",
        "    if is_prime:\n",
        "        print(num, \"is a prime number.\")\n",
        "    else:\n",
        "        print(num, \"is not a prime number.\")"
      ],
      "metadata": {
        "colab": {
          "base_uri": "https://localhost:8080/"
        },
        "id": "cvKd9BDqMu3q",
        "outputId": "a28c19bf-25ff-450f-e4fb-e3a152fbd8ad"
      },
      "execution_count": 45,
      "outputs": [
        {
          "output_type": "stream",
          "name": "stdout",
          "text": [
            "Enter a number: 2\n",
            "2 is a prime number.\n"
          ]
        }
      ]
    },
    {
      "cell_type": "markdown",
      "source": [
        "ex:NO 2Create a list of 10 numbers and print their average."
      ],
      "metadata": {
        "id": "elRySZxlNEkJ"
      }
    },
    {
      "cell_type": "code",
      "source": [
        "numbers = [12, 45, 23, 67, 34, 89, 10, 56, 78, 90]\n",
        "average = sum(numbers) / len(numbers)\n",
        "print(\"Average of the numbers is:\", average)\n"
      ],
      "metadata": {
        "colab": {
          "base_uri": "https://localhost:8080/"
        },
        "id": "Wt0oUHPzNRzZ",
        "outputId": "5c3df79d-0b69-4f18-feb1-921afc9cb68c"
      },
      "execution_count": 46,
      "outputs": [
        {
          "output_type": "stream",
          "name": "stdout",
          "text": [
            "Average of the numbers is: 50.4\n"
          ]
        }
      ]
    },
    {
      "cell_type": "markdown",
      "source": [
        "Ex:NO 3. Store student names and marks in a dictionary and display the topper."
      ],
      "metadata": {
        "id": "5wswUEAANTcR"
      }
    },
    {
      "cell_type": "code",
      "source": [
        "students = {\n",
        "    \"Ali\": 85,\n",
        "    \"Sara\": 92,\n",
        "    \"Ahmed\": 78,\n",
        "    \"Zainab\": 95,\n",
        "    \"Hassan\": 88\n",
        "}\n",
        "topper = max(students, key=students.get)\n",
        "top_marks = students[topper]\n",
        "print(\"Topper is:\", topper)\n",
        "print(\"Marks:\", top_marks)"
      ],
      "metadata": {
        "colab": {
          "base_uri": "https://localhost:8080/"
        },
        "id": "vNM2SMOzNeyY",
        "outputId": "72e78cec-8694-4f09-e47c-8f5c2a75a1dc"
      },
      "execution_count": 47,
      "outputs": [
        {
          "output_type": "stream",
          "name": "stdout",
          "text": [
            "Topper is: Zainab\n",
            "Marks: 95\n"
          ]
        }
      ]
    },
    {
      "cell_type": "markdown",
      "source": [
        "Ex:No Demonstrate set operations: union, intersection, difference."
      ],
      "metadata": {
        "id": "akWo7H1HNoWf"
      }
    },
    {
      "cell_type": "code",
      "source": [
        "setA = {1, 2, 3, 4, 5}\n",
        "setB = {4, 5, 6, 7, 8}\n",
        "# Union: dono sets ke saare unique elements\n",
        "union_set = setA.union(setB)\n",
        "print(\"Union:\", union_set)\n",
        "# Intersection: dono sets mein common elements\n",
        "intersection_set = setA.intersection(setB)\n",
        "print(\"Intersection:\", intersection_set)\n",
        "# Difference: setA mein aise elements jo setB mein nahi hain\n",
        "difference_set = setA.difference(setB)\n",
        "print(\"Difference (setA - setB):\", difference_set)\n"
      ],
      "metadata": {
        "colab": {
          "base_uri": "https://localhost:8080/"
        },
        "id": "IAO6s3QBN4n2",
        "outputId": "fc0eb507-79f8-4f0d-fcf4-4bb06c4b5500"
      },
      "execution_count": 48,
      "outputs": [
        {
          "output_type": "stream",
          "name": "stdout",
          "text": [
            "Union: {1, 2, 3, 4, 5, 6, 7, 8}\n",
            "Intersection: {4, 5}\n",
            "Difference (setA - setB): {1, 2, 3}\n"
          ]
        }
      ]
    },
    {
      "cell_type": "markdown",
      "source": [
        "Ex:5. Write a function to compute factorial using recursion."
      ],
      "metadata": {
        "id": "mJ2n2UOpN6Eo"
      }
    },
    {
      "cell_type": "code",
      "source": [
        "def factorial(n):\n",
        "    if n == 0 or n == 1:\n",
        "        return 1\n",
        "    else:\n",
        "        return n * factorial(n - 1)\n",
        "# Example usage:\n",
        "num = 5\n",
        "print(f\"Factorial of {num} is {factorial(num)}\")\n"
      ],
      "metadata": {
        "colab": {
          "base_uri": "https://localhost:8080/"
        },
        "id": "6GM414RyOcS4",
        "outputId": "48e1ced7-9881-47e5-f68e-dd7adf0ae2dc"
      },
      "execution_count": 49,
      "outputs": [
        {
          "output_type": "stream",
          "name": "stdout",
          "text": [
            "Factorial of 5 is 120\n"
          ]
        }
      ]
    },
    {
      "cell_type": "markdown",
      "source": [
        "Ex:6. Use a for loop to print the Fibonacci series up to n terms."
      ],
      "metadata": {
        "id": "gchc7SH1Oj__"
      }
    },
    {
      "cell_type": "code",
      "source": [
        "n = int(input(\"Enter the number of terms: \"))\n",
        "a, b = 0, 1\n",
        "print(\"Fibonacci series:\")\n",
        "for _ in range(n):\n",
        "    print(a, end=\" \")\n",
        "    a, b = b, a + b\n"
      ],
      "metadata": {
        "colab": {
          "base_uri": "https://localhost:8080/"
        },
        "id": "QlktJXr5Osy_",
        "outputId": "a7aab6ce-96a6-4076-dc5a-a65a09a48084"
      },
      "execution_count": 51,
      "outputs": [
        {
          "output_type": "stream",
          "name": "stdout",
          "text": [
            "Enter the number of terms: 23\n",
            "Fibonacci series:\n",
            "0 1 1 2 3 5 8 13 21 34 55 89 144 233 377 610 987 1597 2584 4181 6765 10946 17711 "
          ]
        }
      ]
    },
    {
      "cell_type": "markdown",
      "source": [
        "EX:7. Read a string and count the number of vowels."
      ],
      "metadata": {
        "id": "TiUEr09PO31n"
      }
    },
    {
      "cell_type": "code",
      "source": [
        "#take user input\n",
        "String = input('Enter the string :')\n",
        "count = 0\n",
        "#to check for less conditions\n",
        "#keep string in lowercase\n",
        "String = String.lower()\n",
        "for i in String:\n",
        "    if i == 'a' or i == 'e' or i == 'i' or i == 'o' or i == 'u':\n",
        "        #if True\n",
        "        count+=1\n",
        "#check if any vowel found\n",
        "if count == 0:\n",
        "    print('No vowels found')\n",
        "else:\n",
        "    print('Total vowels are :' + str(count))"
      ],
      "metadata": {
        "colab": {
          "base_uri": "https://localhost:8080/"
        },
        "id": "Uz5xGMcrPlX2",
        "outputId": "1e08ed40-7c8d-4fc6-dab4-1832404d405b"
      },
      "execution_count": 52,
      "outputs": [
        {
          "output_type": "stream",
          "name": "stdout",
          "text": [
            "Enter the string :ASIA\n",
            "Total vowels are :3\n"
          ]
        }
      ]
    },
    {
      "cell_type": "markdown",
      "source": [
        "eX:NO8. Create a tuple of numbers and find the maximum and minimum."
      ],
      "metadata": {
        "id": "L0DQ_fhBPo43"
      }
    },
    {
      "cell_type": "code",
      "source": [
        "t=tuple()\n",
        "n=int(input(\"Total number of values in tuple\"))\n",
        "for i in range(n):\n",
        "    a=input(\"enter elements\")\n",
        "    t=t+(a,)\n",
        "print (\"maximum value=\",max(t))\n",
        "print (\"minimum value=\",min(t))"
      ],
      "metadata": {
        "colab": {
          "base_uri": "https://localhost:8080/"
        },
        "id": "P8oUwGwtQFNn",
        "outputId": "c811277d-32ec-4c04-dae3-e278cae8c163"
      },
      "execution_count": 53,
      "outputs": [
        {
          "output_type": "stream",
          "name": "stdout",
          "text": [
            "Total number of values in tuple2\n",
            "enter elements3\n",
            "enter elementsAS\n",
            "maximum value= AS\n",
            "minimum value= 3\n"
          ]
        }
      ]
    },
    {
      "cell_type": "markdown",
      "source": [
        "ex:no9. Create a program that asks for user input and reverses the string."
      ],
      "metadata": {
        "id": "r73vYQgWQc_E"
      }
    },
    {
      "cell_type": "code",
      "source": [
        "def reverse_string(input_str):\n",
        "  \"\"\"\n",
        "  Reverses a given string.\n",
        "\n",
        "  Args:\n",
        "    input_str: The string to be reversed.\n",
        "\n",
        "  Returns:\n",
        "    The reversed string.\n",
        "  \"\"\"\n",
        "  return input_str[::-1]\n",
        "\n",
        "# Get input from the user\n",
        "user_input = input(\"Enter a string to reverse: \")\n",
        "\n",
        "# Reverse the string\n",
        "reversed_result = reverse_string(user_input)\n",
        "\n",
        "# Print the reversed string\n",
        "print(\"The reversed string is:\", reversed_result)"
      ],
      "metadata": {
        "colab": {
          "base_uri": "https://localhost:8080/"
        },
        "id": "vm_RGseiQmG3",
        "outputId": "72e54199-728d-4882-fab3-8cb39fb11abf"
      },
      "execution_count": 54,
      "outputs": [
        {
          "output_type": "stream",
          "name": "stdout",
          "text": [
            "Enter a string to reverse: ASIA\n",
            "The reversed string is: AISA\n"
          ]
        }
      ]
    }
  ]
}